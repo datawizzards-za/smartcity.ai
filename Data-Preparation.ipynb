{
 "cells": [
  {
   "cell_type": "code",
   "execution_count": 1,
   "metadata": {
    "collapsed": true
   },
   "outputs": [],
   "source": [
    "import pandas as pd\n",
    "import numpy as np"
   ]
  },
  {
   "cell_type": "code",
   "execution_count": 2,
   "metadata": {
    "collapsed": true
   },
   "outputs": [],
   "source": [
    "import os\n",
    "os.environ.setdefault(\"DJANGO_SETTINGS_MODULE\", \"smartcity.settings\")\n",
    "import django\n",
    "django.setup()"
   ]
  },
  {
   "cell_type": "code",
   "execution_count": 3,
   "metadata": {
    "collapsed": true
   },
   "outputs": [],
   "source": [
    "from app import models"
   ]
  },
  {
   "cell_type": "code",
   "execution_count": 4,
   "metadata": {},
   "outputs": [],
   "source": [
    "employees = models.Employee.objects.all()"
   ]
  },
  {
   "cell_type": "code",
   "execution_count": 7,
   "metadata": {},
   "outputs": [],
   "source": [
    "user = models.User.objects.get(username='EMM18316')\n",
    "emp = models.Employee.objects.get(user_id=user.id)\n",
    "mycases = models.CaseManager.objects.filter(responder_id=emp.id)"
   ]
  },
  {
   "cell_type": "code",
   "execution_count": 9,
   "metadata": {},
   "outputs": [
    {
     "data": {
      "text/plain": [
       "<QuerySet [<CaseManager: CaseManager object>, <CaseManager: CaseManager object>]>"
      ]
     },
     "execution_count": 9,
     "metadata": {},
     "output_type": "execute_result"
    }
   ],
   "source": [
    "mycases.filter(status='closed')"
   ]
  },
  {
   "cell_type": "code",
   "execution_count": 11,
   "metadata": {},
   "outputs": [
    {
     "data": {
      "text/plain": [
       "2749"
      ]
     },
     "execution_count": 11,
     "metadata": {},
     "output_type": "execute_result"
    }
   ],
   "source": [
    "models.CaseManager.objects.count()"
   ]
  },
  {
   "cell_type": "markdown",
   "metadata": {},
   "source": [
    "# Generate Vacancy data"
   ]
  },
  {
   "cell_type": "code",
   "execution_count": 73,
   "metadata": {
    "collapsed": true
   },
   "outputs": [],
   "source": [
    "from collections import Counter\n",
    "from difflib import SequenceMatcher\n",
    "import datetime"
   ]
  },
  {
   "cell_type": "code",
   "execution_count": null,
   "metadata": {
    "collapsed": true
   },
   "outputs": [],
   "source": []
  },
  {
   "cell_type": "code",
   "execution_count": 10,
   "metadata": {},
   "outputs": [
    {
     "data": {
      "text/plain": [
       "1326"
      ]
     },
     "execution_count": 10,
     "metadata": {},
     "output_type": "execute_result"
    }
   ],
   "source": [
    "employees.count()"
   ]
  },
  {
   "cell_type": "code",
   "execution_count": 30,
   "metadata": {
    "collapsed": true
   },
   "outputs": [],
   "source": [
    "faults = models.Fault.objects.all()"
   ]
  },
  {
   "cell_type": "code",
   "execution_count": null,
   "metadata": {
    "collapsed": true
   },
   "outputs": [],
   "source": [
    "Counter(flist)"
   ]
  },
  {
   "cell_type": "code",
   "execution_count": 31,
   "metadata": {
    "collapsed": true
   },
   "outputs": [],
   "source": [
    "flist = [f.category for f in faults]"
   ]
  },
  {
   "cell_type": "code",
   "execution_count": 34,
   "metadata": {},
   "outputs": [],
   "source": [
    "categories = list(pd.unique(flist))"
   ]
  },
  {
   "cell_type": "code",
   "execution_count": 35,
   "metadata": {},
   "outputs": [
    {
     "data": {
      "text/plain": [
       "[u'Water', u'Waste', u'Sewage', u'Electric', u'Traffic', u'Street']"
      ]
     },
     "execution_count": 35,
     "metadata": {},
     "output_type": "execute_result"
    }
   ],
   "source": [
    "categories"
   ]
  },
  {
   "cell_type": "code",
   "execution_count": 25,
   "metadata": {
    "collapsed": true
   },
   "outputs": [],
   "source": [
    "import pickle"
   ]
  },
  {
   "cell_type": "code",
   "execution_count": 28,
   "metadata": {},
   "outputs": [],
   "source": [
    "skills = pickle.load(open('data/skills.pkl'))"
   ]
  },
  {
   "cell_type": "code",
   "execution_count": 51,
   "metadata": {
    "collapsed": true
   },
   "outputs": [],
   "source": [
    "wanted_skills = []"
   ]
  },
  {
   "cell_type": "code",
   "execution_count": 53,
   "metadata": {
    "scrolled": true
   },
   "outputs": [],
   "source": [
    "for skill in skills:\n",
    "    for cat in categories:\n",
    "        if SequenceMatcher(None, cat, skill).ratio() > .4:\n",
    "            wanted_skills.append((skill, cat))\n",
    "#            print(\"{}; {}\".format(skill, cat))"
   ]
  },
  {
   "cell_type": "code",
   "execution_count": 56,
   "metadata": {
    "collapsed": true
   },
   "outputs": [],
   "source": [
    "degree = ['BSc', 'BA', 'BTech', 'Diploma', 'National Certificate']"
   ]
  },
  {
   "cell_type": "code",
   "execution_count": 17,
   "metadata": {
    "collapsed": true
   },
   "outputs": [],
   "source": [
    "jds = employees.values_list('job_desc')"
   ]
  },
  {
   "cell_type": "code",
   "execution_count": 20,
   "metadata": {
    "collapsed": true
   },
   "outputs": [],
   "source": [
    "jtitle = employees.values_list('job_title')"
   ]
  },
  {
   "cell_type": "code",
   "execution_count": 70,
   "metadata": {},
   "outputs": [
    {
     "data": {
      "text/plain": [
       "<QuerySet [(u'Electrical Engineer',), (u'Electrical Engineer',), (u'Civil Engineer',), (u'Civil Engineer',), (u'Civil Engineer',), (u'Electrical Engineer',), (u'Plumber',), (u'Civil Engineer',), (u'Plumber',), (u'Civil Engineer',), (u'Plumber',), (u'Plumber',), (u'Civil Engineer',), (u'Electrical Engineer',), (u'Civil Engineer',), (u'Plumber',), (u'Electrical Engineer',), (u'Plumber',), (u'Plumber',), (u'Electrical Engineer',), '...(remaining elements truncated)...']>"
      ]
     },
     "execution_count": 70,
     "metadata": {},
     "output_type": "execute_result"
    }
   ],
   "source": [
    "jtitle"
   ]
  },
  {
   "cell_type": "code",
   "execution_count": 83,
   "metadata": {},
   "outputs": [
    {
     "data": {
      "text/plain": [
       "(663, {u'app.Application': 0, u'app.Vacancy': 663})"
      ]
     },
     "execution_count": 83,
     "metadata": {},
     "output_type": "execute_result"
    }
   ],
   "source": [
    "models.Vacancy.objects.all().delete()"
   ]
  },
  {
   "cell_type": "code",
   "execution_count": 84,
   "metadata": {},
   "outputs": [],
   "source": [
    "for i in range(int(len(employees) - len(employees) * .5)):\n",
    "    title = jtitle[np.random.randint(0, len(jtitle))]\n",
    "    jd = jds[np.random.randint(0, len(jds))]\n",
    "    cat = wanted_skills[np.random.randint(0, len(wanted_skills))][1]\n",
    "    skill = pd.unique([wskills for wskills in wanted_skills if cat == wskills[1]][:np.random.randint(1,6)])[0]\n",
    "    qualifications = str(degree[np.random.randint(0, len(degree))]) + '., ' + title[0]\n",
    "    posting = datetime.datetime.now().date() - datetime.timedelta(np.random.randint(0, 11))\n",
    "    closing = posting + datetime.timedelta(np.random.randint(2, 21))\n",
    "    \n",
    "    models.Vacancy.objects.create(\n",
    "        title = title[0],\n",
    "        description = jd[0],\n",
    "        skills = skill,\n",
    "        qualifications = qualifications,\n",
    "        posting_date =  posting,\n",
    "        closing_date = closing)"
   ]
  },
  {
   "cell_type": "code",
   "execution_count": 80,
   "metadata": {},
   "outputs": [
    {
     "data": {
      "text/plain": [
       "datetime.date(2017, 11, 3)"
      ]
     },
     "execution_count": 80,
     "metadata": {},
     "output_type": "execute_result"
    }
   ],
   "source": [
    "datetime.datetime.now().date() - datetime.timedelta(1)"
   ]
  },
  {
   "cell_type": "code",
   "execution_count": 82,
   "metadata": {},
   "outputs": [
    {
     "data": {
      "text/plain": [
       "663"
      ]
     },
     "execution_count": 82,
     "metadata": {},
     "output_type": "execute_result"
    }
   ],
   "source": [
    "models.Vacancy.objects.count()"
   ]
  },
  {
   "cell_type": "code",
   "execution_count": null,
   "metadata": {
    "collapsed": true
   },
   "outputs": [],
   "source": []
  },
  {
   "cell_type": "code",
   "execution_count": null,
   "metadata": {
    "collapsed": true
   },
   "outputs": [],
   "source": []
  },
  {
   "cell_type": "code",
   "execution_count": null,
   "metadata": {
    "collapsed": true
   },
   "outputs": [],
   "source": []
  },
  {
   "cell_type": "markdown",
   "metadata": {},
   "source": [
    "# Generate Cases"
   ]
  },
  {
   "cell_type": "code",
   "execution_count": null,
   "metadata": {
    "collapsed": true
   },
   "outputs": [],
   "source": [
    "faults = models.Fault.objects.all()"
   ]
  },
  {
   "cell_type": "code",
   "execution_count": null,
   "metadata": {},
   "outputs": [],
   "source": [
    "faults.count()"
   ]
  },
  {
   "cell_type": "code",
   "execution_count": null,
   "metadata": {
    "collapsed": true
   },
   "outputs": [],
   "source": [
    "emps = models.Employee.objects.all()"
   ]
  },
  {
   "cell_type": "code",
   "execution_count": null,
   "metadata": {
    "collapsed": true
   },
   "outputs": [],
   "source": [
    "status = ['closed', 'open', 'pending']"
   ]
  },
  {
   "cell_type": "code",
   "execution_count": null,
   "metadata": {
    "collapsed": true
   },
   "outputs": [],
   "source": [
    "reason = ['no resources', 'high risk', 'unable to verify']"
   ]
  },
  {
   "cell_type": "code",
   "execution_count": null,
   "metadata": {
    "collapsed": true
   },
   "outputs": [],
   "source": [
    "len(models.Employee.objects.filter(specializations__contains='sewage'))"
   ]
  },
  {
   "cell_type": "code",
   "execution_count": null,
   "metadata": {
    "collapsed": true
   },
   "outputs": [],
   "source": [
    "employees = models.Employee.objects.all()"
   ]
  },
  {
   "cell_type": "code",
   "execution_count": null,
   "metadata": {
    "collapsed": true
   },
   "outputs": [],
   "source": [
    "flts = [fault.category for fault in faults]"
   ]
  },
  {
   "cell_type": "code",
   "execution_count": null,
   "metadata": {
    "collapsed": true
   },
   "outputs": [],
   "source": [
    "from collections import Counter"
   ]
  },
  {
   "cell_type": "code",
   "execution_count": null,
   "metadata": {},
   "outputs": [],
   "source": [
    "Counter(flts)"
   ]
  },
  {
   "cell_type": "code",
   "execution_count": null,
   "metadata": {},
   "outputs": [],
   "source": [
    "pd.unique(flts)"
   ]
  },
  {
   "cell_type": "code",
   "execution_count": null,
   "metadata": {
    "collapsed": true
   },
   "outputs": [],
   "source": [
    "models.CaseManager.objects.all().delete()\n",
    "\n",
    "for fault in faults:\n",
    "    stat = status[np.random.randint(0, 3)]\n",
    "    reas = ('', reason[np.random.randint(0, 3)])[stat == 'pending']\n",
    "    try:\n",
    "        employees = models.Employee.objects.filter(specializations__contains=fault.category)\n",
    "        employee = employees[np.random.randint(0, len(employees))]\n",
    "        models.CaseManager.objects.create(\n",
    "        fault = fault,\n",
    "        responder = employee,\n",
    "        status = stat,\n",
    "        reason = reas)\n",
    "    except:\n",
    "        pass"
   ]
  },
  {
   "cell_type": "code",
   "execution_count": null,
   "metadata": {},
   "outputs": [],
   "source": [
    "models.CaseManager.objects.all().count()\n",
    "    "
   ]
  },
  {
   "cell_type": "code",
   "execution_count": null,
   "metadata": {},
   "outputs": [],
   "source": [
    "models.CaseManager.objects.count()"
   ]
  },
  {
   "cell_type": "code",
   "execution_count": null,
   "metadata": {
    "collapsed": true
   },
   "outputs": [],
   "source": [
    "!ls -l ../data/"
   ]
  },
  {
   "cell_type": "code",
   "execution_count": null,
   "metadata": {
    "collapsed": true
   },
   "outputs": [],
   "source": [
    "data = pd.read_excel(\"../data/emm_queries.xlsx\", sheetname=None)"
   ]
  },
  {
   "cell_type": "code",
   "execution_count": null,
   "metadata": {
    "collapsed": true
   },
   "outputs": [],
   "source": [
    "water_df = pd.DataFrame(raw_data['Water problems'])\n",
    "waste_df = pd.DataFrame(raw_data[ 'Waste problems'])\n",
    "sewage_df = pd.DataFrame(raw_data['Sewerage problems'])\n",
    "electric_df = pd.DataFrame(raw_data['Electricity problems'])\n",
    "traffic_df = pd.DataFrame(raw_data['Traffic lights problems'])\n",
    "street_df = pd.DataFrame(raw_data['Street Lighting Fault'])\n",
    "road_df = pd.DataFrame(raw_data['Road related problems'])"
   ]
  },
  {
   "cell_type": "code",
   "execution_count": null,
   "metadata": {
    "collapsed": true
   },
   "outputs": [],
   "source": [
    "#dfs = ['water_df', 'waste_df', 'sewage_df', 'electric_df', 'traffic_df', 'street_df', 'road_df']\n",
    "dfs = [water_df, waste_df, sewage_df, electric_df, traffic_df, street_df, road_df]"
   ]
  },
  {
   "cell_type": "code",
   "execution_count": null,
   "metadata": {
    "collapsed": true
   },
   "outputs": [],
   "source": [
    "waste_df.head()"
   ]
  },
  {
   "cell_type": "code",
   "execution_count": null,
   "metadata": {
    "collapsed": true
   },
   "outputs": [],
   "source": [
    "count = 1\n",
    "water_defects = ['leaking tap', 'burst pipe', 'cutoff', 'shortages']\n",
    "sewage_defects = ['leaking toilet', 'burst pipe', 'blocked']\n",
    "electric_defects = ['power outage', 'mulfunctions', 'no electricity']"
   ]
  },
  {
   "cell_type": "code",
   "execution_count": null,
   "metadata": {
    "collapsed": true
   },
   "outputs": [],
   "source": [
    "def change_defect_col_bame(df):\n",
    "    return df.rename(columns={'defect_type':'DEFECT'}, inplace=True)"
   ]
  },
  {
   "cell_type": "code",
   "execution_count": null,
   "metadata": {
    "collapsed": true
   },
   "outputs": [],
   "source": [
    "electric_df.head()"
   ]
  },
  {
   "cell_type": "code",
   "execution_count": null,
   "metadata": {
    "collapsed": true
   },
   "outputs": [],
   "source": [
    "water_df.head()"
   ]
  },
  {
   "cell_type": "code",
   "execution_count": null,
   "metadata": {
    "collapsed": true
   },
   "outputs": [],
   "source": [
    "waste_df.head()"
   ]
  },
  {
   "cell_type": "code",
   "execution_count": null,
   "metadata": {
    "collapsed": true
   },
   "outputs": [],
   "source": [
    "for df in dfs:\n",
    "    df.dropna(axis=1, how='all', inplace=True)\n",
    "    df.drop_duplicates(inplace=True)\n",
    "    \n",
    "    if count == 1:\n",
    "        df['CATEGORY'] = 'WATER'\n",
    "        df['DEFECT'] = None\n",
    "        df.DEFECT = df.DEFECT.transform(lambda x: str(x).replace('None', water_defects[np.random.randint(0, 4)]))\n",
    "    elif count == 2:\n",
    "        df['CATEGORY'] = 'WASTE'\n",
    "        df = change_defect_col_bame(df)\n",
    "    elif count == 3:\n",
    "        df['CATEGORY'] = 'SEWAGE'\n",
    "        df['DEFECT'] = None\n",
    "        df.DEFECT = df.DEFECT.transform(lambda x: str(x).replace('None', sewage_defects[np.random.randint(0, 3)]))\n",
    "    elif count == 4:\n",
    "        df['CATEGORY'] = 'ELECTRIC'\n",
    "        df['DEFECT'] = None\n",
    "        df.DEFECT = df.DEFECT.transform(lambda x: str(x).replace('None', electric_defects[np.random.randint(0, 3)]))\n",
    "    elif count == 5:\n",
    "        df['CATEGORY'] = 'TRAFFIC'\n",
    "#        df.rename({'defect_type':'DEFECT'}, inplace=True)\n",
    "        df = change_defect_col_bame(df)\n",
    "    elif count == 6:\n",
    "        df['CATEGORY'] = 'STREET'\n",
    "#        df.rename({'defect_type':'DEFECT'}, inplace=True)\n",
    "        df = change_defect_col_bame(df)\n",
    "    else:\n",
    "        df['CATEGORY'] = 'ROAD'\n",
    "#        df.rename({'defect_type':'DEFECT'}, inplace=True)\n",
    "        df = change_defect_col_bame(df)\n",
    "    \n",
    "    count += 1"
   ]
  },
  {
   "cell_type": "code",
   "execution_count": null,
   "metadata": {
    "collapsed": true
   },
   "outputs": [],
   "source": [
    "street_df.head()"
   ]
  },
  {
   "cell_type": "code",
   "execution_count": null,
   "metadata": {
    "collapsed": true
   },
   "outputs": [],
   "source": []
  },
  {
   "cell_type": "code",
   "execution_count": null,
   "metadata": {
    "collapsed": true
   },
   "outputs": [],
   "source": [
    "xls_writer = pd.ExcelWriter(\"../data/emm_quies_proc.xlsx\", engine='xlsxwriter')"
   ]
  },
  {
   "cell_type": "code",
   "execution_count": null,
   "metadata": {
    "collapsed": true
   },
   "outputs": [],
   "source": [
    "count = 0\n",
    "for df in dfs:\n",
    "    df.to_excel(xls_writer, sheet_name=str(count), index=False, header=True)\n",
    "    count += 1"
   ]
  },
  {
   "cell_type": "code",
   "execution_count": null,
   "metadata": {
    "collapsed": true
   },
   "outputs": [],
   "source": [
    "xls_writer.save()"
   ]
  },
  {
   "cell_type": "code",
   "execution_count": null,
   "metadata": {
    "collapsed": true
   },
   "outputs": [],
   "source": [
    "from bokeh.core.properties import value\n",
    "from bokeh.io import show, output_file\n",
    "from bokeh.plotting import figure"
   ]
  },
  {
   "cell_type": "code",
   "execution_count": null,
   "metadata": {
    "collapsed": true
   },
   "outputs": [],
   "source": [
    "output_file(\"visuals.html\")"
   ]
  },
  {
   "cell_type": "code",
   "execution_count": null,
   "metadata": {
    "collapsed": true
   },
   "outputs": [],
   "source": [
    "street_df.head()"
   ]
  },
  {
   "cell_type": "code",
   "execution_count": null,
   "metadata": {
    "collapsed": true
   },
   "outputs": [],
   "source": [
    "pd.unique(street_df.DEFECT)"
   ]
  },
  {
   "cell_type": "code",
   "execution_count": null,
   "metadata": {
    "collapsed": true
   },
   "outputs": [],
   "source": [
    "street_df['month_submitted'] = street_df.DateSubmitted.transform(lambda x: str(x).split('-')[1])"
   ]
  },
  {
   "cell_type": "code",
   "execution_count": null,
   "metadata": {
    "collapsed": true
   },
   "outputs": [],
   "source": [
    "p = figure(x_range=pd.unique(list(street_df.month_submitted)), \n",
    "           plot_height=350, \n",
    "           title=\"Defect Type by Month\", \n",
    "           toolbar_location=None, \n",
    "           tools=\"\")\n",
    "\n",
    "p.vbar_stack(list(pd.unique(street_df.DEFECT)), \n",
    "             x='fruits', \n",
    "             width=0.9, \n",
    "             source=street_df, legend=[value(x) for x in list(pd.unique(street_df.DEFECT))])"
   ]
  },
  {
   "cell_type": "code",
   "execution_count": null,
   "metadata": {
    "collapsed": true
   },
   "outputs": [],
   "source": [
    "p.y_range.start = 0\n",
    "p.x_range.range_padding = 0.1\n",
    "p.xgrid.grid_line_color = None\n",
    "p.axis.minor_tick_line_color = None\n",
    "p.outline_line_color = None\n",
    "p.legend.location = \"top_left\"\n",
    "p.legend.orientation = \"horizontal\""
   ]
  }
 ],
 "metadata": {
  "kernelspec": {
   "display_name": "Python [default]",
   "language": "python",
   "name": "python2"
  },
  "language_info": {
   "codemirror_mode": {
    "name": "ipython",
    "version": 2
   },
   "file_extension": ".py",
   "mimetype": "text/x-python",
   "name": "python",
   "nbconvert_exporter": "python",
   "pygments_lexer": "ipython2",
   "version": "2.7.13"
  }
 },
 "nbformat": 4,
 "nbformat_minor": 2
}
