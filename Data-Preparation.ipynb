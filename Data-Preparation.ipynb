{
 "cells": [
  {
   "cell_type": "code",
   "execution_count": 1,
   "metadata": {
    "collapsed": true
   },
   "outputs": [],
   "source": [
    "import pandas as pd\n",
    "import numpy as np"
   ]
  },
  {
   "cell_type": "code",
   "execution_count": 2,
   "metadata": {
    "collapsed": true
   },
   "outputs": [],
   "source": [
    "import os\n",
    "os.environ.setdefault(\"DJANGO_SETTINGS_MODULE\", \"smartcity.settings\")\n",
    "import django\n",
    "django.setup()"
   ]
  },
  {
   "cell_type": "code",
   "execution_count": 3,
   "metadata": {
    "collapsed": true
   },
   "outputs": [],
   "source": [
    "from app import models"
   ]
  },
  {
   "cell_type": "code",
   "execution_count": 4,
   "metadata": {},
   "outputs": [
    {
     "data": {
      "text/plain": [
       "1326"
      ]
     },
     "execution_count": 4,
     "metadata": {},
     "output_type": "execute_result"
    }
   ],
   "source": [
    "models.Employee.objects.count()"
   ]
  },
  {
   "cell_type": "code",
   "execution_count": 5,
   "metadata": {
    "collapsed": true
   },
   "outputs": [],
   "source": [
    "faults = models.Fault.objects.all()"
   ]
  },
  {
   "cell_type": "code",
   "execution_count": 6,
   "metadata": {},
   "outputs": [
    {
     "data": {
      "text/plain": [
       "<QuerySet [<Fault: Fault object>, <Fault: Fault object>, <Fault: Fault object>, <Fault: Fault object>, <Fault: Fault object>, <Fault: Fault object>, <Fault: Fault object>, <Fault: Fault object>, <Fault: Fault object>, <Fault: Fault object>, <Fault: Fault object>, <Fault: Fault object>, <Fault: Fault object>, <Fault: Fault object>, <Fault: Fault object>, <Fault: Fault object>, <Fault: Fault object>, <Fault: Fault object>, <Fault: Fault object>, <Fault: Fault object>, '...(remaining elements truncated)...']>"
      ]
     },
     "execution_count": 6,
     "metadata": {},
     "output_type": "execute_result"
    }
   ],
   "source": [
    "faults"
   ]
  },
  {
   "cell_type": "code",
   "execution_count": 7,
   "metadata": {
    "collapsed": true
   },
   "outputs": [],
   "source": [
    "emps = models.Employee.objects.all()"
   ]
  },
  {
   "cell_type": "code",
   "execution_count": 8,
   "metadata": {
    "collapsed": true
   },
   "outputs": [],
   "source": [
    "status = ['closed', 'open', 'pending']"
   ]
  },
  {
   "cell_type": "code",
   "execution_count": 9,
   "metadata": {
    "collapsed": true
   },
   "outputs": [],
   "source": [
    "reason = ['no resources', 'high risk', 'unable to verify']"
   ]
  },
  {
   "cell_type": "code",
   "execution_count": 10,
   "metadata": {},
   "outputs": [
    {
     "data": {
      "text/plain": [
       "178"
      ]
     },
     "execution_count": 10,
     "metadata": {},
     "output_type": "execute_result"
    }
   ],
   "source": [
    "len(models.Employee.objects.filter(specializations__contains='sewage'))"
   ]
  },
  {
   "cell_type": "code",
   "execution_count": 11,
   "metadata": {
    "collapsed": true
   },
   "outputs": [],
   "source": [
    "employees = models.Employee.objects.all()"
   ]
  },
  {
   "cell_type": "code",
   "execution_count": 12,
   "metadata": {
    "collapsed": true
   },
   "outputs": [],
   "source": [
    "for fault in faults:\n",
    "    stat = status[np.random.randint(0, 3)]\n",
    "    reas = ('', reason[np.random.randint(0, 3)])[stat == 'pending']\n",
    "    try:\n",
    "        employees = models.Employee.objects.filter(specializations__contains=fault.category)\n",
    "        employee = employees[np.random.randint(0, len(employees))]\n",
    "        models.CaseManager.objects.create(\n",
    "        fault = fault,\n",
    "        responder = employee,\n",
    "        status = stat,\n",
    "        reason = reas)\n",
    "    except:\n",
    "        pass"
   ]
  },
  {
   "cell_type": "code",
   "execution_count": 15,
   "metadata": {},
   "outputs": [
    {
     "data": {
      "text/plain": [
       "2749"
      ]
     },
     "execution_count": 15,
     "metadata": {},
     "output_type": "execute_result"
    }
   ],
   "source": [
    "models.CaseManager.objects.all().count()\n",
    "    "
   ]
  },
  {
   "cell_type": "code",
   "execution_count": null,
   "metadata": {},
   "outputs": [],
   "source": [
    "models.CaseManager.objects.count()"
   ]
  },
  {
   "cell_type": "code",
   "execution_count": null,
   "metadata": {
    "collapsed": true
   },
   "outputs": [],
   "source": [
    "!ls -l ../data/"
   ]
  },
  {
   "cell_type": "code",
   "execution_count": null,
   "metadata": {
    "collapsed": true
   },
   "outputs": [],
   "source": [
    "data = pd.read_excel(\"../data/emm_queries.xlsx\", sheetname=None)"
   ]
  },
  {
   "cell_type": "code",
   "execution_count": null,
   "metadata": {
    "collapsed": true
   },
   "outputs": [],
   "source": [
    "water_df = pd.DataFrame(raw_data['Water problems'])\n",
    "waste_df = pd.DataFrame(raw_data[ 'Waste problems'])\n",
    "sewage_df = pd.DataFrame(raw_data['Sewerage problems'])\n",
    "electric_df = pd.DataFrame(raw_data['Electricity problems'])\n",
    "traffic_df = pd.DataFrame(raw_data['Traffic lights problems'])\n",
    "street_df = pd.DataFrame(raw_data['Street Lighting Fault'])\n",
    "road_df = pd.DataFrame(raw_data['Road related problems'])"
   ]
  },
  {
   "cell_type": "code",
   "execution_count": null,
   "metadata": {
    "collapsed": true
   },
   "outputs": [],
   "source": [
    "#dfs = ['water_df', 'waste_df', 'sewage_df', 'electric_df', 'traffic_df', 'street_df', 'road_df']\n",
    "dfs = [water_df, waste_df, sewage_df, electric_df, traffic_df, street_df, road_df]"
   ]
  },
  {
   "cell_type": "code",
   "execution_count": null,
   "metadata": {
    "collapsed": true
   },
   "outputs": [],
   "source": [
    "waste_df.head()"
   ]
  },
  {
   "cell_type": "code",
   "execution_count": null,
   "metadata": {
    "collapsed": true
   },
   "outputs": [],
   "source": [
    "count = 1\n",
    "water_defects = ['leaking tap', 'burst pipe', 'cutoff', 'shortages']\n",
    "sewage_defects = ['leaking toilet', 'burst pipe', 'blocked']\n",
    "electric_defects = ['power outage', 'mulfunctions', 'no electricity']"
   ]
  },
  {
   "cell_type": "code",
   "execution_count": null,
   "metadata": {
    "collapsed": true
   },
   "outputs": [],
   "source": [
    "def change_defect_col_bame(df):\n",
    "    return df.rename(columns={'defect_type':'DEFECT'}, inplace=True)"
   ]
  },
  {
   "cell_type": "code",
   "execution_count": null,
   "metadata": {
    "collapsed": true
   },
   "outputs": [],
   "source": [
    "electric_df.head()"
   ]
  },
  {
   "cell_type": "code",
   "execution_count": null,
   "metadata": {
    "collapsed": true
   },
   "outputs": [],
   "source": [
    "water_df.head()"
   ]
  },
  {
   "cell_type": "code",
   "execution_count": null,
   "metadata": {
    "collapsed": true
   },
   "outputs": [],
   "source": [
    "waste_df.head()"
   ]
  },
  {
   "cell_type": "code",
   "execution_count": null,
   "metadata": {
    "collapsed": true
   },
   "outputs": [],
   "source": [
    "for df in dfs:\n",
    "    df.dropna(axis=1, how='all', inplace=True)\n",
    "    df.drop_duplicates(inplace=True)\n",
    "    \n",
    "    if count == 1:\n",
    "        df['CATEGORY'] = 'WATER'\n",
    "        df['DEFECT'] = None\n",
    "        df.DEFECT = df.DEFECT.transform(lambda x: str(x).replace('None', water_defects[np.random.randint(0, 4)]))\n",
    "    elif count == 2:\n",
    "        df['CATEGORY'] = 'WASTE'\n",
    "        df = change_defect_col_bame(df)\n",
    "    elif count == 3:\n",
    "        df['CATEGORY'] = 'SEWAGE'\n",
    "        df['DEFECT'] = None\n",
    "        df.DEFECT = df.DEFECT.transform(lambda x: str(x).replace('None', sewage_defects[np.random.randint(0, 3)]))\n",
    "    elif count == 4:\n",
    "        df['CATEGORY'] = 'ELECTRIC'\n",
    "        df['DEFECT'] = None\n",
    "        df.DEFECT = df.DEFECT.transform(lambda x: str(x).replace('None', electric_defects[np.random.randint(0, 3)]))\n",
    "    elif count == 5:\n",
    "        df['CATEGORY'] = 'TRAFFIC'\n",
    "#        df.rename({'defect_type':'DEFECT'}, inplace=True)\n",
    "        df = change_defect_col_bame(df)\n",
    "    elif count == 6:\n",
    "        df['CATEGORY'] = 'STREET'\n",
    "#        df.rename({'defect_type':'DEFECT'}, inplace=True)\n",
    "        df = change_defect_col_bame(df)\n",
    "    else:\n",
    "        df['CATEGORY'] = 'ROAD'\n",
    "#        df.rename({'defect_type':'DEFECT'}, inplace=True)\n",
    "        df = change_defect_col_bame(df)\n",
    "    \n",
    "    count += 1"
   ]
  },
  {
   "cell_type": "code",
   "execution_count": null,
   "metadata": {
    "collapsed": true
   },
   "outputs": [],
   "source": [
    "street_df.head()"
   ]
  },
  {
   "cell_type": "code",
   "execution_count": null,
   "metadata": {
    "collapsed": true
   },
   "outputs": [],
   "source": []
  },
  {
   "cell_type": "code",
   "execution_count": null,
   "metadata": {
    "collapsed": true
   },
   "outputs": [],
   "source": [
    "xls_writer = pd.ExcelWriter(\"../data/emm_quies_proc.xlsx\", engine='xlsxwriter')"
   ]
  },
  {
   "cell_type": "code",
   "execution_count": null,
   "metadata": {
    "collapsed": true
   },
   "outputs": [],
   "source": [
    "count = 0\n",
    "for df in dfs:\n",
    "    df.to_excel(xls_writer, sheet_name=str(count), index=False, header=True)\n",
    "    count += 1"
   ]
  },
  {
   "cell_type": "code",
   "execution_count": null,
   "metadata": {
    "collapsed": true
   },
   "outputs": [],
   "source": [
    "xls_writer.save()"
   ]
  },
  {
   "cell_type": "code",
   "execution_count": null,
   "metadata": {
    "collapsed": true
   },
   "outputs": [],
   "source": [
    "from bokeh.core.properties import value\n",
    "from bokeh.io import show, output_file\n",
    "from bokeh.plotting import figure"
   ]
  },
  {
   "cell_type": "code",
   "execution_count": null,
   "metadata": {
    "collapsed": true
   },
   "outputs": [],
   "source": [
    "output_file(\"visuals.html\")"
   ]
  },
  {
   "cell_type": "code",
   "execution_count": null,
   "metadata": {
    "collapsed": true
   },
   "outputs": [],
   "source": [
    "street_df.head()"
   ]
  },
  {
   "cell_type": "code",
   "execution_count": null,
   "metadata": {
    "collapsed": true
   },
   "outputs": [],
   "source": [
    "pd.unique(street_df.DEFECT)"
   ]
  },
  {
   "cell_type": "code",
   "execution_count": null,
   "metadata": {
    "collapsed": true
   },
   "outputs": [],
   "source": [
    "street_df['month_submitted'] = street_df.DateSubmitted.transform(lambda x: str(x).split('-')[1])"
   ]
  },
  {
   "cell_type": "code",
   "execution_count": null,
   "metadata": {
    "collapsed": true
   },
   "outputs": [],
   "source": [
    "p = figure(x_range=pd.unique(list(street_df.month_submitted)), \n",
    "           plot_height=350, \n",
    "           title=\"Defect Type by Month\", \n",
    "           toolbar_location=None, \n",
    "           tools=\"\")\n",
    "\n",
    "p.vbar_stack(list(pd.unique(street_df.DEFECT)), \n",
    "             x='fruits', \n",
    "             width=0.9, \n",
    "             source=street_df, legend=[value(x) for x in list(pd.unique(street_df.DEFECT))])"
   ]
  },
  {
   "cell_type": "code",
   "execution_count": null,
   "metadata": {
    "collapsed": true
   },
   "outputs": [],
   "source": [
    "p.y_range.start = 0\n",
    "p.x_range.range_padding = 0.1\n",
    "p.xgrid.grid_line_color = None\n",
    "p.axis.minor_tick_line_color = None\n",
    "p.outline_line_color = None\n",
    "p.legend.location = \"top_left\"\n",
    "p.legend.orientation = \"horizontal\""
   ]
  }
 ],
 "metadata": {
  "kernelspec": {
   "display_name": "Python 2",
   "language": "python",
   "name": "python2"
  },
  "language_info": {
   "codemirror_mode": {
    "name": "ipython",
    "version": 2
   },
   "file_extension": ".py",
   "mimetype": "text/x-python",
   "name": "python",
   "nbconvert_exporter": "python",
   "pygments_lexer": "ipython2",
   "version": "2.7.12"
  }
 },
 "nbformat": 4,
 "nbformat_minor": 2
}
