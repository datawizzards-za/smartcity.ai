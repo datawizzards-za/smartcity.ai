{
 "cells": [
  {
   "cell_type": "code",
   "execution_count": 1,
   "metadata": {},
   "outputs": [],
   "source": [
    "import pandas as pd\n",
    "import numpy as np"
   ]
  },
  {
   "cell_type": "code",
   "execution_count": null,
   "metadata": {
    "collapsed": true
   },
   "outputs": [],
   "source": [
    "!ls -l ../data/"
   ]
  },
  {
   "cell_type": "code",
   "execution_count": 2,
   "metadata": {},
   "outputs": [],
   "source": [
    "raw_data = pd.read_excel(\"../data/emm_queries.xlsx\", sheetname=None, parse_cols=\"A:K\")"
   ]
  },
  {
   "cell_type": "code",
   "execution_count": 3,
   "metadata": {},
   "outputs": [],
   "source": [
    "water_df = pd.DataFrame(raw_data['Water problems'])\n",
    "waste_df = pd.DataFrame(raw_data[ 'Waste problems'])\n",
    "sewage_df = pd.DataFrame(raw_data['Sewerage problems'])\n",
    "electric_df = pd.DataFrame(raw_data['Electricity problems'])\n",
    "traffic_df = pd.DataFrame(raw_data['Traffic lights problems'])\n",
    "street_df = pd.DataFrame(raw_data['Street Lighting Fault'])\n",
    "road_df = pd.DataFrame(raw_data['Road related problems'])"
   ]
  },
  {
   "cell_type": "code",
   "execution_count": 4,
   "metadata": {
    "collapsed": true
   },
   "outputs": [],
   "source": [
    "#dfs = ['water_df', 'waste_df', 'sewage_df', 'electric_df', 'traffic_df', 'street_df', 'road_df']\n",
    "dfs = [water_df, waste_df, sewage_df, electric_df, traffic_df, street_df, road_df]"
   ]
  },
  {
   "cell_type": "code",
   "execution_count": 6,
   "metadata": {},
   "outputs": [
    {
     "data": {
      "text/html": [
       "<div>\n",
       "<style>\n",
       "    .dataframe thead tr:only-child th {\n",
       "        text-align: right;\n",
       "    }\n",
       "\n",
       "    .dataframe thead th {\n",
       "        text-align: left;\n",
       "    }\n",
       "\n",
       "    .dataframe tbody tr th {\n",
       "        vertical-align: top;\n",
       "    }\n",
       "</style>\n",
       "<table border=\"1\" class=\"dataframe\">\n",
       "  <thead>\n",
       "    <tr style=\"text-align: right;\">\n",
       "      <th></th>\n",
       "      <th>DateSubmitted</th>\n",
       "      <th>Column16377</th>\n",
       "      <th>date_created</th>\n",
       "      <th>town_name</th>\n",
       "      <th>Column16376</th>\n",
       "      <th>defect_type</th>\n",
       "      <th>reported_by</th>\n",
       "      <th>tel_num</th>\n",
       "      <th>emailP_add</th>\n",
       "      <th>Column1</th>\n",
       "      <th>Column2</th>\n",
       "    </tr>\n",
       "  </thead>\n",
       "  <tbody>\n",
       "    <tr>\n",
       "      <th>0</th>\n",
       "      <td>2014-12-26 06:32:41</td>\n",
       "      <td>NaN</td>\n",
       "      <td>2014/12/26</td>\n",
       "      <td>SPRINGS</td>\n",
       "      <td>NaN</td>\n",
       "      <td>Other</td>\n",
       "      <td>NaN</td>\n",
       "      <td>NaN</td>\n",
       "      <td>NaN</td>\n",
       "      <td>NaN</td>\n",
       "      <td>NaN</td>\n",
       "    </tr>\n",
       "    <tr>\n",
       "      <th>1</th>\n",
       "      <td>2014-12-26 09:32:01</td>\n",
       "      <td>NaN</td>\n",
       "      <td>2014/12/26</td>\n",
       "      <td>Primrose</td>\n",
       "      <td>NaN</td>\n",
       "      <td>Illegal dumping</td>\n",
       "      <td>NaN</td>\n",
       "      <td>NaN</td>\n",
       "      <td>NaN</td>\n",
       "      <td>NaN</td>\n",
       "      <td>NaN</td>\n",
       "    </tr>\n",
       "    <tr>\n",
       "      <th>2</th>\n",
       "      <td>2014-12-26 09:47:38</td>\n",
       "      <td>NaN</td>\n",
       "      <td>2014/12/26</td>\n",
       "      <td>Boksburg</td>\n",
       "      <td>NaN</td>\n",
       "      <td>Other</td>\n",
       "      <td>NaN</td>\n",
       "      <td>NaN</td>\n",
       "      <td>NaN</td>\n",
       "      <td>NaN</td>\n",
       "      <td>NaN</td>\n",
       "    </tr>\n",
       "    <tr>\n",
       "      <th>3</th>\n",
       "      <td>2014-12-26 11:07:12</td>\n",
       "      <td>NaN</td>\n",
       "      <td>2014/12/26</td>\n",
       "      <td>Kempton Park</td>\n",
       "      <td>NaN</td>\n",
       "      <td>Other</td>\n",
       "      <td>NaN</td>\n",
       "      <td>NaN</td>\n",
       "      <td>NaN</td>\n",
       "      <td>NaN</td>\n",
       "      <td>NaN</td>\n",
       "    </tr>\n",
       "    <tr>\n",
       "      <th>4</th>\n",
       "      <td>2014-12-27 13:03:44</td>\n",
       "      <td>NaN</td>\n",
       "      <td>2014/12/27</td>\n",
       "      <td>Bedfordview</td>\n",
       "      <td>NaN</td>\n",
       "      <td>Other</td>\n",
       "      <td>NaN</td>\n",
       "      <td>NaN</td>\n",
       "      <td>NaN</td>\n",
       "      <td>NaN</td>\n",
       "      <td>NaN</td>\n",
       "    </tr>\n",
       "  </tbody>\n",
       "</table>\n",
       "</div>"
      ],
      "text/plain": [
       "         DateSubmitted  Column16377 date_created     town_name  Column16376  \\\n",
       "0  2014-12-26 06:32:41          NaN   2014/12/26       SPRINGS          NaN   \n",
       "1  2014-12-26 09:32:01          NaN   2014/12/26      Primrose          NaN   \n",
       "2  2014-12-26 09:47:38          NaN   2014/12/26      Boksburg          NaN   \n",
       "3  2014-12-26 11:07:12          NaN   2014/12/26  Kempton Park          NaN   \n",
       "4  2014-12-27 13:03:44          NaN   2014/12/27   Bedfordview          NaN   \n",
       "\n",
       "       defect_type  reported_by  tel_num  emailP_add  Column1  Column2  \n",
       "0            Other          NaN      NaN         NaN      NaN      NaN  \n",
       "1  Illegal dumping          NaN      NaN         NaN      NaN      NaN  \n",
       "2            Other          NaN      NaN         NaN      NaN      NaN  \n",
       "3            Other          NaN      NaN         NaN      NaN      NaN  \n",
       "4            Other          NaN      NaN         NaN      NaN      NaN  "
      ]
     },
     "execution_count": 6,
     "metadata": {},
     "output_type": "execute_result"
    }
   ],
   "source": [
    "waste_df.head()"
   ]
  },
  {
   "cell_type": "code",
   "execution_count": 7,
   "metadata": {},
   "outputs": [],
   "source": [
    "count = 1\n",
    "water_defects = ['leaking tap', 'burst pipe', 'cutoff', 'shortages']\n",
    "sewage_defects = ['leaking toilet', 'burst pipe', 'blocked']\n",
    "electric_defects = ['power outage', 'mulfunctions', 'no electricity']"
   ]
  },
  {
   "cell_type": "code",
   "execution_count": 8,
   "metadata": {
    "collapsed": true
   },
   "outputs": [],
   "source": [
    "def change_defect_col_bame(df):\n",
    "    return df.rename(columns={'defect_type':'DEFECT'}, inplace=True)"
   ]
  },
  {
   "cell_type": "code",
   "execution_count": 13,
   "metadata": {},
   "outputs": [
    {
     "data": {
      "text/html": [
       "<div>\n",
       "<style>\n",
       "    .dataframe thead tr:only-child th {\n",
       "        text-align: right;\n",
       "    }\n",
       "\n",
       "    .dataframe thead th {\n",
       "        text-align: left;\n",
       "    }\n",
       "\n",
       "    .dataframe tbody tr th {\n",
       "        vertical-align: top;\n",
       "    }\n",
       "</style>\n",
       "<table border=\"1\" class=\"dataframe\">\n",
       "  <thead>\n",
       "    <tr style=\"text-align: right;\">\n",
       "      <th></th>\n",
       "      <th>DateSubmitted</th>\n",
       "      <th>date_created</th>\n",
       "      <th>town_name</th>\n",
       "      <th>CATEGORY</th>\n",
       "      <th>DEFECT</th>\n",
       "    </tr>\n",
       "  </thead>\n",
       "  <tbody>\n",
       "    <tr>\n",
       "      <th>0</th>\n",
       "      <td>2014-12-24 00:10:58</td>\n",
       "      <td>2014/12/24</td>\n",
       "      <td>Boksburg</td>\n",
       "      <td>ELECTRIC</td>\n",
       "      <td>mulfunctions</td>\n",
       "    </tr>\n",
       "    <tr>\n",
       "      <th>1</th>\n",
       "      <td>2014-12-24 01:04:59</td>\n",
       "      <td>2014/12/24</td>\n",
       "      <td>Pomona</td>\n",
       "      <td>ELECTRIC</td>\n",
       "      <td>no electricity</td>\n",
       "    </tr>\n",
       "    <tr>\n",
       "      <th>2</th>\n",
       "      <td>2014-12-24 07:25:05</td>\n",
       "      <td>2014/12/24</td>\n",
       "      <td>germiston</td>\n",
       "      <td>ELECTRIC</td>\n",
       "      <td>no electricity</td>\n",
       "    </tr>\n",
       "    <tr>\n",
       "      <th>3</th>\n",
       "      <td>2014-12-24 07:57:36</td>\n",
       "      <td>2014/12/24</td>\n",
       "      <td>Germiston</td>\n",
       "      <td>ELECTRIC</td>\n",
       "      <td>mulfunctions</td>\n",
       "    </tr>\n",
       "    <tr>\n",
       "      <th>4</th>\n",
       "      <td>2014-12-24 08:34:53</td>\n",
       "      <td>2014/12/24</td>\n",
       "      <td>Edenvale</td>\n",
       "      <td>ELECTRIC</td>\n",
       "      <td>no electricity</td>\n",
       "    </tr>\n",
       "  </tbody>\n",
       "</table>\n",
       "</div>"
      ],
      "text/plain": [
       "         DateSubmitted date_created  town_name  CATEGORY          DEFECT\n",
       "0  2014-12-24 00:10:58   2014/12/24   Boksburg  ELECTRIC    mulfunctions\n",
       "1  2014-12-24 01:04:59   2014/12/24     Pomona  ELECTRIC  no electricity\n",
       "2  2014-12-24 07:25:05   2014/12/24  germiston  ELECTRIC  no electricity\n",
       "3  2014-12-24 07:57:36   2014/12/24  Germiston  ELECTRIC    mulfunctions\n",
       "4  2014-12-24 08:34:53   2014/12/24   Edenvale  ELECTRIC  no electricity"
      ]
     },
     "execution_count": 13,
     "metadata": {},
     "output_type": "execute_result"
    }
   ],
   "source": [
    "electric_df.head()"
   ]
  },
  {
   "cell_type": "code",
   "execution_count": 12,
   "metadata": {},
   "outputs": [
    {
     "data": {
      "text/html": [
       "<div>\n",
       "<style>\n",
       "    .dataframe thead tr:only-child th {\n",
       "        text-align: right;\n",
       "    }\n",
       "\n",
       "    .dataframe thead th {\n",
       "        text-align: left;\n",
       "    }\n",
       "\n",
       "    .dataframe tbody tr th {\n",
       "        vertical-align: top;\n",
       "    }\n",
       "</style>\n",
       "<table border=\"1\" class=\"dataframe\">\n",
       "  <thead>\n",
       "    <tr style=\"text-align: right;\">\n",
       "      <th></th>\n",
       "      <th>Column16374</th>\n",
       "      <th>date_created</th>\n",
       "      <th>Street Address</th>\n",
       "      <th>town_name</th>\n",
       "      <th>CATEGORY</th>\n",
       "      <th>DEFECT</th>\n",
       "    </tr>\n",
       "  </thead>\n",
       "  <tbody>\n",
       "    <tr>\n",
       "      <th>0</th>\n",
       "      <td>2014-12-24 07:32:18</td>\n",
       "      <td>2014/12/24</td>\n",
       "      <td>NaN</td>\n",
       "      <td>edenvale</td>\n",
       "      <td>WATER</td>\n",
       "      <td>leaking tap</td>\n",
       "    </tr>\n",
       "    <tr>\n",
       "      <th>1</th>\n",
       "      <td>2014-12-24 08:40:28</td>\n",
       "      <td>2014/12/24</td>\n",
       "      <td>NaN</td>\n",
       "      <td>Tembisa Kempton Park</td>\n",
       "      <td>WATER</td>\n",
       "      <td>shortages</td>\n",
       "    </tr>\n",
       "    <tr>\n",
       "      <th>2</th>\n",
       "      <td>2014-12-24 09:14:56</td>\n",
       "      <td>2014/12/24</td>\n",
       "      <td>NaN</td>\n",
       "      <td>Alberton</td>\n",
       "      <td>WATER</td>\n",
       "      <td>cutoff</td>\n",
       "    </tr>\n",
       "    <tr>\n",
       "      <th>3</th>\n",
       "      <td>2014-12-24 09:40:10</td>\n",
       "      <td>2014/12/24</td>\n",
       "      <td>NaN</td>\n",
       "      <td>Alberton</td>\n",
       "      <td>WATER</td>\n",
       "      <td>leaking tap</td>\n",
       "    </tr>\n",
       "    <tr>\n",
       "      <th>4</th>\n",
       "      <td>2014-12-24 10:29:39</td>\n",
       "      <td>2014/12/24</td>\n",
       "      <td>NaN</td>\n",
       "      <td>Kempton park</td>\n",
       "      <td>WATER</td>\n",
       "      <td>leaking tap</td>\n",
       "    </tr>\n",
       "  </tbody>\n",
       "</table>\n",
       "</div>"
      ],
      "text/plain": [
       "           Column16374 date_created Street Address             town_name  \\\n",
       "0  2014-12-24 07:32:18   2014/12/24            NaN              edenvale   \n",
       "1  2014-12-24 08:40:28   2014/12/24            NaN  Tembisa Kempton Park   \n",
       "2  2014-12-24 09:14:56   2014/12/24            NaN              Alberton   \n",
       "3  2014-12-24 09:40:10   2014/12/24            NaN              Alberton   \n",
       "4  2014-12-24 10:29:39   2014/12/24            NaN          Kempton park   \n",
       "\n",
       "  CATEGORY       DEFECT  \n",
       "0    WATER  leaking tap  \n",
       "1    WATER    shortages  \n",
       "2    WATER       cutoff  \n",
       "3    WATER  leaking tap  \n",
       "4    WATER  leaking tap  "
      ]
     },
     "execution_count": 12,
     "metadata": {},
     "output_type": "execute_result"
    }
   ],
   "source": [
    "water_df.head()"
   ]
  },
  {
   "cell_type": "code",
   "execution_count": 11,
   "metadata": {},
   "outputs": [
    {
     "data": {
      "text/html": [
       "<div>\n",
       "<style>\n",
       "    .dataframe thead tr:only-child th {\n",
       "        text-align: right;\n",
       "    }\n",
       "\n",
       "    .dataframe thead th {\n",
       "        text-align: left;\n",
       "    }\n",
       "\n",
       "    .dataframe tbody tr th {\n",
       "        vertical-align: top;\n",
       "    }\n",
       "</style>\n",
       "<table border=\"1\" class=\"dataframe\">\n",
       "  <thead>\n",
       "    <tr style=\"text-align: right;\">\n",
       "      <th></th>\n",
       "      <th>DateSubmitted</th>\n",
       "      <th>date_created</th>\n",
       "      <th>town_name</th>\n",
       "      <th>DEFECT</th>\n",
       "      <th>CATEGORY</th>\n",
       "    </tr>\n",
       "  </thead>\n",
       "  <tbody>\n",
       "    <tr>\n",
       "      <th>0</th>\n",
       "      <td>2014-12-26 06:32:41</td>\n",
       "      <td>2014/12/26</td>\n",
       "      <td>SPRINGS</td>\n",
       "      <td>Other</td>\n",
       "      <td>WASTE</td>\n",
       "    </tr>\n",
       "    <tr>\n",
       "      <th>1</th>\n",
       "      <td>2014-12-26 09:32:01</td>\n",
       "      <td>2014/12/26</td>\n",
       "      <td>Primrose</td>\n",
       "      <td>Illegal dumping</td>\n",
       "      <td>WASTE</td>\n",
       "    </tr>\n",
       "    <tr>\n",
       "      <th>2</th>\n",
       "      <td>2014-12-26 09:47:38</td>\n",
       "      <td>2014/12/26</td>\n",
       "      <td>Boksburg</td>\n",
       "      <td>Other</td>\n",
       "      <td>WASTE</td>\n",
       "    </tr>\n",
       "    <tr>\n",
       "      <th>3</th>\n",
       "      <td>2014-12-26 11:07:12</td>\n",
       "      <td>2014/12/26</td>\n",
       "      <td>Kempton Park</td>\n",
       "      <td>Other</td>\n",
       "      <td>WASTE</td>\n",
       "    </tr>\n",
       "    <tr>\n",
       "      <th>4</th>\n",
       "      <td>2014-12-27 13:03:44</td>\n",
       "      <td>2014/12/27</td>\n",
       "      <td>Bedfordview</td>\n",
       "      <td>Other</td>\n",
       "      <td>WASTE</td>\n",
       "    </tr>\n",
       "  </tbody>\n",
       "</table>\n",
       "</div>"
      ],
      "text/plain": [
       "         DateSubmitted date_created     town_name           DEFECT CATEGORY\n",
       "0  2014-12-26 06:32:41   2014/12/26       SPRINGS            Other    WASTE\n",
       "1  2014-12-26 09:32:01   2014/12/26      Primrose  Illegal dumping    WASTE\n",
       "2  2014-12-26 09:47:38   2014/12/26      Boksburg            Other    WASTE\n",
       "3  2014-12-26 11:07:12   2014/12/26  Kempton Park            Other    WASTE\n",
       "4  2014-12-27 13:03:44   2014/12/27   Bedfordview            Other    WASTE"
      ]
     },
     "execution_count": 11,
     "metadata": {},
     "output_type": "execute_result"
    }
   ],
   "source": [
    "waste_df.head()"
   ]
  },
  {
   "cell_type": "code",
   "execution_count": 10,
   "metadata": {},
   "outputs": [],
   "source": [
    "for df in dfs:\n",
    "    df.dropna(axis=1, how='all', inplace=True)\n",
    "    df.drop_duplicates(inplace=True)\n",
    "    \n",
    "    if count == 1:\n",
    "        df['CATEGORY'] = 'WATER'\n",
    "        df['DEFECT'] = None\n",
    "        df.DEFECT = df.DEFECT.transform(lambda x: str(x).replace('None', water_defects[np.random.randint(0, 4)]))\n",
    "    elif count == 2:\n",
    "        df['CATEGORY'] = 'WASTE'\n",
    "        df = change_defect_col_bame(df)\n",
    "    elif count == 3:\n",
    "        df['CATEGORY'] = 'SEWAGE'\n",
    "        df['DEFECT'] = None\n",
    "        df.DEFECT = df.DEFECT.transform(lambda x: str(x).replace('None', sewage_defects[np.random.randint(0, 3)]))\n",
    "    elif count == 4:\n",
    "        df['CATEGORY'] = 'ELECTRIC'\n",
    "        df['DEFECT'] = None\n",
    "        df.DEFECT = df.DEFECT.transform(lambda x: str(x).replace('None', electric_defects[np.random.randint(0, 3)]))\n",
    "    elif count == 5:\n",
    "        df['CATEGORY'] = 'TRAFFIC'\n",
    "#        df.rename({'defect_type':'DEFECT'}, inplace=True)\n",
    "        df = change_defect_col_bame(df)\n",
    "    elif count == 6:\n",
    "        df['CATEGORY'] = 'STREET'\n",
    "#        df.rename({'defect_type':'DEFECT'}, inplace=True)\n",
    "        df = change_defect_col_bame(df)\n",
    "    else:\n",
    "        df['CATEGORY'] = 'ROAD'\n",
    "#        df.rename({'defect_type':'DEFECT'}, inplace=True)\n",
    "        df = change_defect_col_bame(df)\n",
    "    \n",
    "    count += 1"
   ]
  },
  {
   "cell_type": "code",
   "execution_count": null,
   "metadata": {},
   "outputs": [],
   "source": [
    "street_df.head()"
   ]
  },
  {
   "cell_type": "code",
   "execution_count": null,
   "metadata": {
    "collapsed": true
   },
   "outputs": [],
   "source": []
  },
  {
   "cell_type": "code",
   "execution_count": null,
   "metadata": {},
   "outputs": [],
   "source": [
    "xls_writer = pd.ExcelWriter(\"../data/emm_quies_proc.xlsx\", engine='xlsxwriter')"
   ]
  },
  {
   "cell_type": "code",
   "execution_count": null,
   "metadata": {},
   "outputs": [],
   "source": [
    "count = 0\n",
    "for df in dfs:\n",
    "    df.to_excel(xls_writer, sheet_name=str(count), index=False, header=True)\n",
    "    count += 1"
   ]
  },
  {
   "cell_type": "code",
   "execution_count": null,
   "metadata": {
    "collapsed": true
   },
   "outputs": [],
   "source": [
    "xls_writer.save()"
   ]
  },
  {
   "cell_type": "code",
   "execution_count": null,
   "metadata": {
    "collapsed": true
   },
   "outputs": [],
   "source": []
  },
  {
   "cell_type": "code",
   "execution_count": null,
   "metadata": {
    "collapsed": true
   },
   "outputs": [],
   "source": [
    "from bokeh.core.properties import value\n",
    "from bokeh.io import show, output_file\n",
    "from bokeh.plotting import figure"
   ]
  },
  {
   "cell_type": "code",
   "execution_count": null,
   "metadata": {
    "collapsed": true
   },
   "outputs": [],
   "source": [
    "output_file(\"visuals.html\")"
   ]
  },
  {
   "cell_type": "code",
   "execution_count": null,
   "metadata": {},
   "outputs": [],
   "source": [
    "street_df.head()"
   ]
  },
  {
   "cell_type": "code",
   "execution_count": null,
   "metadata": {},
   "outputs": [],
   "source": [
    "pd.unique(street_df.DEFECT)"
   ]
  },
  {
   "cell_type": "code",
   "execution_count": null,
   "metadata": {
    "collapsed": true
   },
   "outputs": [],
   "source": [
    "street_df['month_submitted'] = street_df.DateSubmitted.transform(lambda x: str(x).split('-')[1])"
   ]
  },
  {
   "cell_type": "code",
   "execution_count": null,
   "metadata": {
    "collapsed": true
   },
   "outputs": [],
   "source": [
    "p = figure(x_range=pd.unique(list(street_df.month_submitted)), \n",
    "           plot_height=350, \n",
    "           title=\"Defect Type by Month\", \n",
    "           toolbar_location=None, \n",
    "           tools=\"\")\n",
    "\n",
    "p.vbar_stack(list(pd.unique(street_df.DEFECT)), \n",
    "             x='fruits', \n",
    "             width=0.9, \n",
    "             source=street_df, legend=[value(x) for x in list(pd.unique(street_df.DEFECT))])"
   ]
  },
  {
   "cell_type": "code",
   "execution_count": null,
   "metadata": {
    "collapsed": true
   },
   "outputs": [],
   "source": [
    "p.y_range.start = 0\n",
    "p.x_range.range_padding = 0.1\n",
    "p.xgrid.grid_line_color = None\n",
    "p.axis.minor_tick_line_color = None\n",
    "p.outline_line_color = None\n",
    "p.legend.location = \"top_left\"\n",
    "p.legend.orientation = \"horizontal\""
   ]
  },
  {
   "cell_type": "code",
   "execution_count": null,
   "metadata": {
    "collapsed": true
   },
   "outputs": [],
   "source": []
  },
  {
   "cell_type": "code",
   "execution_count": null,
   "metadata": {
    "collapsed": true
   },
   "outputs": [],
   "source": []
  },
  {
   "cell_type": "code",
   "execution_count": null,
   "metadata": {
    "collapsed": true
   },
   "outputs": [],
   "source": []
  }
 ],
 "metadata": {
  "kernelspec": {
   "display_name": "Python [conda env:smartcity.ai]",
   "language": "python",
   "name": "conda-env-smartcity.ai-py"
  },
  "language_info": {
   "codemirror_mode": {
    "name": "ipython",
    "version": 2
   },
   "file_extension": ".py",
   "mimetype": "text/x-python",
   "name": "python",
   "nbconvert_exporter": "python",
   "pygments_lexer": "ipython2",
   "version": "2.7.13"
  }
 },
 "nbformat": 4,
 "nbformat_minor": 2
}
