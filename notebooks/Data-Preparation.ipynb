{
 "cells": [
  {
   "cell_type": "code",
   "execution_count": 1,
   "metadata": {
    "collapsed": true
   },
   "outputs": [],
   "source": [
    "import pandas as pd\n",
    "import numpy as np"
   ]
  },
  {
   "cell_type": "code",
   "execution_count": 2,
   "metadata": {},
   "outputs": [
    {
     "name": "stdout",
     "output_type": "stream",
     "text": [
      "total 33652\r\n",
      "-rw-rw-r-- 1 asive asive 13712189 Oct 29 08:50 EMM queries.csv\r\n",
      "-rw-rw-r-- 1 asive asive   145388 Oct 31 21:03 emm_queries_proc.xlsx\r\n",
      "-rw-rw-r-- 1 asive asive  1429805 Oct 29 08:52 EMM queries.xlsx\r\n",
      "-rw-rw-r-- 1 asive asive  6292252 Oct 31 21:00 employee_data.pkl\r\n",
      "-rw-rw-r-- 1 asive asive   175933 Oct 31 21:00 employee_names.pkl\r\n",
      "-rw-rw-r-- 1 asive asive     2613 Oct 29 05:18 interests.txt\r\n",
      "-rw-rw-r-- 1 asive asive  6228366 Oct 29 05:18 johannesburg.json\r\n",
      "-rw-rw-r-- 1 asive asive  6362628 Oct 31 21:00 johannesburg.pkl\r\n",
      "-rw-rw-r-- 1 asive asive    94132 Oct 29 05:18 skills.pkl\r\n"
     ]
    }
   ],
   "source": [
    "!ls -l ../data/"
   ]
  },
  {
   "cell_type": "code",
   "execution_count": 7,
   "metadata": {
    "collapsed": true
   },
   "outputs": [],
   "source": [
    "data = pd.read_excel(\"../data/emm_queries.xlsx\", sheetname=None)"
   ]
  },
  {
   "cell_type": "code",
   "execution_count": 8,
   "metadata": {},
   "outputs": [
    {
     "ename": "KeyError",
     "evalue": "'Water problems'",
     "output_type": "error",
     "traceback": [
      "\u001b[0;31m---------------------------------------------------------------------------\u001b[0m",
      "\u001b[0;31mKeyError\u001b[0m                                  Traceback (most recent call last)",
      "\u001b[0;32m<ipython-input-8-a0d01509e3b7>\u001b[0m in \u001b[0;36m<module>\u001b[0;34m()\u001b[0m\n\u001b[0;32m----> 1\u001b[0;31m \u001b[0mwater_df\u001b[0m \u001b[0;34m=\u001b[0m \u001b[0mpd\u001b[0m\u001b[0;34m.\u001b[0m\u001b[0mDataFrame\u001b[0m\u001b[0;34m(\u001b[0m\u001b[0mraw_data\u001b[0m\u001b[0;34m[\u001b[0m\u001b[0;34m'Water problems'\u001b[0m\u001b[0;34m]\u001b[0m\u001b[0;34m)\u001b[0m\u001b[0;34m\u001b[0m\u001b[0m\n\u001b[0m\u001b[1;32m      2\u001b[0m \u001b[0mwaste_df\u001b[0m \u001b[0;34m=\u001b[0m \u001b[0mpd\u001b[0m\u001b[0;34m.\u001b[0m\u001b[0mDataFrame\u001b[0m\u001b[0;34m(\u001b[0m\u001b[0mraw_data\u001b[0m\u001b[0;34m[\u001b[0m \u001b[0;34m'Waste problems'\u001b[0m\u001b[0;34m]\u001b[0m\u001b[0;34m)\u001b[0m\u001b[0;34m\u001b[0m\u001b[0m\n\u001b[1;32m      3\u001b[0m \u001b[0msewage_df\u001b[0m \u001b[0;34m=\u001b[0m \u001b[0mpd\u001b[0m\u001b[0;34m.\u001b[0m\u001b[0mDataFrame\u001b[0m\u001b[0;34m(\u001b[0m\u001b[0mraw_data\u001b[0m\u001b[0;34m[\u001b[0m\u001b[0;34m'Sewerage problems'\u001b[0m\u001b[0;34m]\u001b[0m\u001b[0;34m)\u001b[0m\u001b[0;34m\u001b[0m\u001b[0m\n\u001b[1;32m      4\u001b[0m \u001b[0melectric_df\u001b[0m \u001b[0;34m=\u001b[0m \u001b[0mpd\u001b[0m\u001b[0;34m.\u001b[0m\u001b[0mDataFrame\u001b[0m\u001b[0;34m(\u001b[0m\u001b[0mraw_data\u001b[0m\u001b[0;34m[\u001b[0m\u001b[0;34m'Electricity problems'\u001b[0m\u001b[0;34m]\u001b[0m\u001b[0;34m)\u001b[0m\u001b[0;34m\u001b[0m\u001b[0m\n\u001b[1;32m      5\u001b[0m \u001b[0mtraffic_df\u001b[0m \u001b[0;34m=\u001b[0m \u001b[0mpd\u001b[0m\u001b[0;34m.\u001b[0m\u001b[0mDataFrame\u001b[0m\u001b[0;34m(\u001b[0m\u001b[0mraw_data\u001b[0m\u001b[0;34m[\u001b[0m\u001b[0;34m'Traffic lights problems'\u001b[0m\u001b[0;34m]\u001b[0m\u001b[0;34m)\u001b[0m\u001b[0;34m\u001b[0m\u001b[0m\n",
      "\u001b[0;31mKeyError\u001b[0m: 'Water problems'"
     ]
    }
   ],
   "source": [
    "water_df = pd.DataFrame(raw_data['Water problems'])\n",
    "waste_df = pd.DataFrame(raw_data[ 'Waste problems'])\n",
    "sewage_df = pd.DataFrame(raw_data['Sewerage problems'])\n",
    "electric_df = pd.DataFrame(raw_data['Electricity problems'])\n",
    "traffic_df = pd.DataFrame(raw_data['Traffic lights problems'])\n",
    "street_df = pd.DataFrame(raw_data['Street Lighting Fault'])\n",
    "road_df = pd.DataFrame(raw_data['Road related problems'])"
   ]
  },
  {
   "cell_type": "code",
   "execution_count": 9,
   "metadata": {},
   "outputs": [
    {
     "ename": "NameError",
     "evalue": "name 'water_df' is not defined",
     "output_type": "error",
     "traceback": [
      "\u001b[0;31m---------------------------------------------------------------------------\u001b[0m",
      "\u001b[0;31mNameError\u001b[0m                                 Traceback (most recent call last)",
      "\u001b[0;32m<ipython-input-9-89855a80ec4a>\u001b[0m in \u001b[0;36m<module>\u001b[0;34m()\u001b[0m\n\u001b[1;32m      1\u001b[0m \u001b[0;31m#dfs = ['water_df', 'waste_df', 'sewage_df', 'electric_df', 'traffic_df', 'street_df', 'road_df']\u001b[0m\u001b[0;34m\u001b[0m\u001b[0;34m\u001b[0m\u001b[0m\n\u001b[0;32m----> 2\u001b[0;31m \u001b[0mdfs\u001b[0m \u001b[0;34m=\u001b[0m \u001b[0;34m[\u001b[0m\u001b[0mwater_df\u001b[0m\u001b[0;34m,\u001b[0m \u001b[0mwaste_df\u001b[0m\u001b[0;34m,\u001b[0m \u001b[0msewage_df\u001b[0m\u001b[0;34m,\u001b[0m \u001b[0melectric_df\u001b[0m\u001b[0;34m,\u001b[0m \u001b[0mtraffic_df\u001b[0m\u001b[0;34m,\u001b[0m \u001b[0mstreet_df\u001b[0m\u001b[0;34m,\u001b[0m \u001b[0mroad_df\u001b[0m\u001b[0;34m]\u001b[0m\u001b[0;34m\u001b[0m\u001b[0m\n\u001b[0m",
      "\u001b[0;31mNameError\u001b[0m: name 'water_df' is not defined"
     ]
    }
   ],
   "source": [
    "#dfs = ['water_df', 'waste_df', 'sewage_df', 'electric_df', 'traffic_df', 'street_df', 'road_df']\n",
    "dfs = [water_df, waste_df, sewage_df, electric_df, traffic_df, street_df, road_df]"
   ]
  },
  {
   "cell_type": "code",
   "execution_count": null,
   "metadata": {
    "collapsed": true
   },
   "outputs": [],
   "source": [
    "waste_df.head()"
   ]
  },
  {
   "cell_type": "code",
   "execution_count": null,
   "metadata": {
    "collapsed": true
   },
   "outputs": [],
   "source": [
    "count = 1\n",
    "water_defects = ['leaking tap', 'burst pipe', 'cutoff', 'shortages']\n",
    "sewage_defects = ['leaking toilet', 'burst pipe', 'blocked']\n",
    "electric_defects = ['power outage', 'mulfunctions', 'no electricity']"
   ]
  },
  {
   "cell_type": "code",
   "execution_count": null,
   "metadata": {
    "collapsed": true
   },
   "outputs": [],
   "source": [
    "def change_defect_col_bame(df):\n",
    "    return df.rename(columns={'defect_type':'DEFECT'}, inplace=True)"
   ]
  },
  {
   "cell_type": "code",
   "execution_count": null,
   "metadata": {
    "collapsed": true
   },
   "outputs": [],
   "source": [
    "electric_df.head()"
   ]
  },
  {
   "cell_type": "code",
   "execution_count": null,
   "metadata": {
    "collapsed": true
   },
   "outputs": [],
   "source": [
    "water_df.head()"
   ]
  },
  {
   "cell_type": "code",
   "execution_count": null,
   "metadata": {
    "collapsed": true
   },
   "outputs": [],
   "source": [
    "waste_df.head()"
   ]
  },
  {
   "cell_type": "code",
   "execution_count": null,
   "metadata": {
    "collapsed": true
   },
   "outputs": [],
   "source": [
    "for df in dfs:\n",
    "    df.dropna(axis=1, how='all', inplace=True)\n",
    "    df.drop_duplicates(inplace=True)\n",
    "    \n",
    "    if count == 1:\n",
    "        df['CATEGORY'] = 'WATER'\n",
    "        df['DEFECT'] = None\n",
    "        df.DEFECT = df.DEFECT.transform(lambda x: str(x).replace('None', water_defects[np.random.randint(0, 4)]))\n",
    "    elif count == 2:\n",
    "        df['CATEGORY'] = 'WASTE'\n",
    "        df = change_defect_col_bame(df)\n",
    "    elif count == 3:\n",
    "        df['CATEGORY'] = 'SEWAGE'\n",
    "        df['DEFECT'] = None\n",
    "        df.DEFECT = df.DEFECT.transform(lambda x: str(x).replace('None', sewage_defects[np.random.randint(0, 3)]))\n",
    "    elif count == 4:\n",
    "        df['CATEGORY'] = 'ELECTRIC'\n",
    "        df['DEFECT'] = None\n",
    "        df.DEFECT = df.DEFECT.transform(lambda x: str(x).replace('None', electric_defects[np.random.randint(0, 3)]))\n",
    "    elif count == 5:\n",
    "        df['CATEGORY'] = 'TRAFFIC'\n",
    "#        df.rename({'defect_type':'DEFECT'}, inplace=True)\n",
    "        df = change_defect_col_bame(df)\n",
    "    elif count == 6:\n",
    "        df['CATEGORY'] = 'STREET'\n",
    "#        df.rename({'defect_type':'DEFECT'}, inplace=True)\n",
    "        df = change_defect_col_bame(df)\n",
    "    else:\n",
    "        df['CATEGORY'] = 'ROAD'\n",
    "#        df.rename({'defect_type':'DEFECT'}, inplace=True)\n",
    "        df = change_defect_col_bame(df)\n",
    "    \n",
    "    count += 1"
   ]
  },
  {
   "cell_type": "code",
   "execution_count": null,
   "metadata": {
    "collapsed": true
   },
   "outputs": [],
   "source": [
    "street_df.head()"
   ]
  },
  {
   "cell_type": "code",
   "execution_count": null,
   "metadata": {
    "collapsed": true
   },
   "outputs": [],
   "source": []
  },
  {
   "cell_type": "code",
   "execution_count": 15,
   "metadata": {
    "collapsed": true
   },
   "outputs": [],
   "source": [
    "xls_writer = pd.ExcelWriter(\"../data/emm_quies_proc.xlsx\", engine='xlsxwriter')"
   ]
  },
  {
   "cell_type": "code",
   "execution_count": 16,
   "metadata": {
    "collapsed": true
   },
   "outputs": [],
   "source": [
    "count = 0\n",
    "for df in dfs:\n",
    "    df.to_excel(xls_writer, sheet_name=str(count), index=False, header=True)\n",
    "    count += 1"
   ]
  },
  {
   "cell_type": "code",
   "execution_count": 17,
   "metadata": {
    "collapsed": true
   },
   "outputs": [],
   "source": [
    "xls_writer.save()"
   ]
  },
  {
   "cell_type": "code",
   "execution_count": null,
   "metadata": {
    "collapsed": true
   },
   "outputs": [],
   "source": [
    "from bokeh.core.properties import value\n",
    "from bokeh.io import show, output_file\n",
    "from bokeh.plotting import figure"
   ]
  },
  {
   "cell_type": "code",
   "execution_count": null,
   "metadata": {
    "collapsed": true
   },
   "outputs": [],
   "source": [
    "output_file(\"visuals.html\")"
   ]
  },
  {
   "cell_type": "code",
   "execution_count": 14,
   "metadata": {},
   "outputs": [
    {
     "data": {
      "text/html": [
       "<div>\n",
       "<style>\n",
       "    .dataframe thead tr:only-child th {\n",
       "        text-align: right;\n",
       "    }\n",
       "\n",
       "    .dataframe thead th {\n",
       "        text-align: left;\n",
       "    }\n",
       "\n",
       "    .dataframe tbody tr th {\n",
       "        vertical-align: top;\n",
       "    }\n",
       "</style>\n",
       "<table border=\"1\" class=\"dataframe\">\n",
       "  <thead>\n",
       "    <tr style=\"text-align: right;\">\n",
       "      <th></th>\n",
       "      <th>DateSubmitted</th>\n",
       "      <th>date_created</th>\n",
       "      <th>town_name</th>\n",
       "      <th>Street Address</th>\n",
       "      <th>DEFECT</th>\n",
       "      <th>CATEGORY</th>\n",
       "    </tr>\n",
       "  </thead>\n",
       "  <tbody>\n",
       "    <tr>\n",
       "      <th>0</th>\n",
       "      <td>2014-12-24 08:54:43</td>\n",
       "      <td>2014/12/24</td>\n",
       "      <td>dalpark ext 6</td>\n",
       "      <td>NaN</td>\n",
       "      <td>Not working</td>\n",
       "      <td>STREET</td>\n",
       "    </tr>\n",
       "    <tr>\n",
       "      <th>1</th>\n",
       "      <td>2014-12-24 10:16:12</td>\n",
       "      <td>2014/12/24</td>\n",
       "      <td>brakpan</td>\n",
       "      <td>NaN</td>\n",
       "      <td>Always on</td>\n",
       "      <td>STREET</td>\n",
       "    </tr>\n",
       "    <tr>\n",
       "      <th>2</th>\n",
       "      <td>2014-12-24 12:48:57</td>\n",
       "      <td>2014/12/24</td>\n",
       "      <td>Primrose Germiston</td>\n",
       "      <td>NaN</td>\n",
       "      <td>Whole street not working</td>\n",
       "      <td>STREET</td>\n",
       "    </tr>\n",
       "    <tr>\n",
       "      <th>3</th>\n",
       "      <td>2014-12-24 14:30:41</td>\n",
       "      <td>2014/12/24</td>\n",
       "      <td>boksburg</td>\n",
       "      <td>NaN</td>\n",
       "      <td>Not working</td>\n",
       "      <td>STREET</td>\n",
       "    </tr>\n",
       "    <tr>\n",
       "      <th>4</th>\n",
       "      <td>2014-12-24 21:50:18</td>\n",
       "      <td>2014/12/24</td>\n",
       "      <td>witfield boksburg</td>\n",
       "      <td>NaN</td>\n",
       "      <td>Not working</td>\n",
       "      <td>STREET</td>\n",
       "    </tr>\n",
       "  </tbody>\n",
       "</table>\n",
       "</div>"
      ],
      "text/plain": [
       "         DateSubmitted date_created           town_name Street Address  \\\n",
       "0  2014-12-24 08:54:43   2014/12/24       dalpark ext 6            NaN   \n",
       "1  2014-12-24 10:16:12   2014/12/24             brakpan            NaN   \n",
       "2  2014-12-24 12:48:57   2014/12/24  Primrose Germiston            NaN   \n",
       "3  2014-12-24 14:30:41   2014/12/24            boksburg            NaN   \n",
       "4  2014-12-24 21:50:18   2014/12/24   witfield boksburg            NaN   \n",
       "\n",
       "                     DEFECT CATEGORY  \n",
       "0               Not working   STREET  \n",
       "1                 Always on   STREET  \n",
       "2  Whole street not working   STREET  \n",
       "3               Not working   STREET  \n",
       "4               Not working   STREET  "
      ]
     },
     "execution_count": 14,
     "metadata": {},
     "output_type": "execute_result"
    }
   ],
   "source": [
    "street_df.head()"
   ]
  },
  {
   "cell_type": "code",
   "execution_count": null,
   "metadata": {
    "collapsed": true
   },
   "outputs": [],
   "source": [
    "pd.unique(street_df.DEFECT)"
   ]
  },
  {
   "cell_type": "code",
   "execution_count": null,
   "metadata": {
    "collapsed": true
   },
   "outputs": [],
   "source": [
    "street_df['month_submitted'] = street_df.DateSubmitted.transform(lambda x: str(x).split('-')[1])"
   ]
  },
  {
   "cell_type": "code",
   "execution_count": null,
   "metadata": {
    "collapsed": true
   },
   "outputs": [],
   "source": [
    "p = figure(x_range=pd.unique(list(street_df.month_submitted)), \n",
    "           plot_height=350, \n",
    "           title=\"Defect Type by Month\", \n",
    "           toolbar_location=None, \n",
    "           tools=\"\")\n",
    "\n",
    "p.vbar_stack(list(pd.unique(street_df.DEFECT)), \n",
    "             x='fruits', \n",
    "             width=0.9, \n",
    "             source=street_df, legend=[value(x) for x in list(pd.unique(street_df.DEFECT))])"
   ]
  },
  {
   "cell_type": "code",
   "execution_count": null,
   "metadata": {
    "collapsed": true
   },
   "outputs": [],
   "source": [
    "p.y_range.start = 0\n",
    "p.x_range.range_padding = 0.1\n",
    "p.xgrid.grid_line_color = None\n",
    "p.axis.minor_tick_line_color = None\n",
    "p.outline_line_color = None\n",
    "p.legend.location = \"top_left\"\n",
    "p.legend.orientation = \"horizontal\""
   ]
  }
 ],
 "metadata": {
  "kernelspec": {
   "display_name": "Python [default]",
   "language": "python",
   "name": "python2"
  },
  "language_info": {
   "codemirror_mode": {
    "name": "ipython",
    "version": 2
   },
   "file_extension": ".py",
   "mimetype": "text/x-python",
   "name": "python",
   "nbconvert_exporter": "python",
   "pygments_lexer": "ipython2",
   "version": "2.7.13"
  }
 },
 "nbformat": 4,
 "nbformat_minor": 2
}
